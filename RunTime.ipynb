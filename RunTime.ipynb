{
 "cells": [
  {
   "cell_type": "markdown",
   "metadata": {},
   "source": [
    "O(n): simple iteration. Sample size(n) is reduced by one for each iteration or recursive call"
   ]
  },
  {
   "cell_type": "code",
   "execution_count": 62,
   "metadata": {},
   "outputs": [],
   "source": [
    "# factoiral calculation. Loop implementation\n",
    "def fact_iter(n):\n",
    "    answer = 1;\n",
    "    while (n > 1):\n",
    "        answer *= n\n",
    "        n -= 1\n",
    "    return answer"
   ]
  },
  {
   "cell_type": "code",
   "execution_count": null,
   "metadata": {},
   "outputs": [],
   "source": [
    "# sane function but easier to see, i run from 1 to n\n",
    "def fact_iter_other(n):\n",
    "    answer = 1\n",
    "    for i in range(i, n+1):\n",
    "        answer *= i\n",
    "    return answer"
   ]
  },
  {
   "cell_type": "code",
   "execution_count": 63,
   "metadata": {},
   "outputs": [],
   "source": [
    "# factorial calculation. Recursion implementation\n",
    "def fact_recur(n):\n",
    "    if (n > 1):\n",
    "        return n*fact_iter(n-1)"
   ]
  },
  {
   "cell_type": "code",
   "execution_count": 64,
   "metadata": {},
   "outputs": [],
   "source": [
    "# Linear Search, unsorted. We will see that linear search for sorted/unsorted list does not improve run time\n",
    "# => binary search\n",
    "def linear_search(L, e):\n",
    "    found = False\n",
    "    for i in range(len(L)):\n",
    "        if L[i] == e:\n",
    "            found = True\n",
    "            # can return here to reduce average runtime, but rate to inrease big(O) remains unchanged\n",
    "            # demonstrated in the next example\n",
    "    return False"
   ]
  },
  {
   "cell_type": "code",
   "execution_count": null,
   "metadata": {},
   "outputs": [],
   "source": [
    "# Linear Search for sorted list (ascending order)\n",
    "def linear_search_sorted(L, e):\n",
    "    for i in range(len(L)):\n",
    "        if L[i] == e:\n",
    "            return True\n",
    "        # this elif can reduce average run time, but once again, the worst case scenario still N\n",
    "        # therefore rate of increase  still O(n)\n",
    "        elif L[i] > i:\n",
    "            return False\n",
    "    return False"
   ]
  },
  {
   "cell_type": "code",
   "execution_count": null,
   "metadata": {},
   "outputs": [],
   "source": [
    "# Add digit in a string of digit. f(\"123\") = 1 + 2 + 3 = 6\n",
    "# in order to find sum, we have no choice but loop through a stirng of len = N\n",
    "# thus Time complexity = O(n)\n",
    "def addDigits(s):\n",
    "    val = 0\n",
    "    for i in s:\n",
    "        val += int(i)\n",
    "    return val"
   ]
  },
  {
   "cell_type": "markdown",
   "metadata": {},
   "source": [
    "Quaratic Complexity 0(N^2): Nest loop"
   ]
  },
  {
   "cell_type": "code",
   "execution_count": null,
   "metadata": {},
   "outputs": [],
   "source": [
    "# check if a set is a subset of second set. Every element of the first, appears in the second\n",
    "# They can both have the same size (different size: proper subset)\n",
    "def isSubset(L1, L2):\n",
    "    for e1 in L1:\n",
    "        # set initial matched to false for every element in L1\n",
    "        matched = False\n",
    "        # loop through every element in L2 and check with the current element in L1\n",
    "        for e2 in L2:\n",
    "            # if there is a matched we stop the loop to reduce ave runtime\n",
    "            if e1 == e2:\n",
    "                matched = True\n",
    "                break\n",
    "        # after we have completed the check loop. if matched still false => not a subset relaation\n",
    "        if not matched:\n",
    "            return False\n",
    "    # if the function still not return and run up to this point, all element in L1 matched\n",
    "    return True\n",
    "# So what is the run time for this function?\n",
    "# We assume L1 has n1 elements, L2 has n2 elements.\n",
    "# Loop through L1: n1 times (fixed)\n",
    "# for 1.....n1, we have to loop through L2. Each is n2 time(maybe less than but just make it simple)\n",
    "# total run time n1*n2. If n1 = n2\n",
    "# Time Complexity 0(N^2)"
   ]
  }
 ],
 "metadata": {
  "kernelspec": {
   "display_name": "Python 3.9.13 ('base')",
   "language": "python",
   "name": "python3"
  },
  "language_info": {
   "codemirror_mode": {
    "name": "ipython",
    "version": 3
   },
   "file_extension": ".py",
   "mimetype": "text/x-python",
   "name": "python",
   "nbconvert_exporter": "python",
   "pygments_lexer": "ipython3",
   "version": "3.9.13"
  },
  "orig_nbformat": 4,
  "vscode": {
   "interpreter": {
    "hash": "2dd167f9a55a8bf4e24a89b39ca27ec3ee408ce20f35c5d55956cdcf329d3c9c"
   }
  }
 },
 "nbformat": 4,
 "nbformat_minor": 2
}
