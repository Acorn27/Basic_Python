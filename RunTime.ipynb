{
 "cells": [
  {
   "cell_type": "markdown",
   "metadata": {},
   "source": [
    "1)Linear O(N)\n",
    "Sample size(n) is reduced by one for each iteration or recursive call"
   ]
  },
  {
   "cell_type": "code",
   "execution_count": 62,
   "metadata": {},
   "outputs": [],
   "source": [
    "# factoiral calculation. Loop implementation\n",
    "def fact_iter(n):\n",
    "    answer = 1;\n",
    "    while (n > 1):\n",
    "        answer *= n\n",
    "        n -= 1\n",
    "    return answer"
   ]
  },
  {
   "cell_type": "code",
   "execution_count": null,
   "metadata": {},
   "outputs": [],
   "source": [
    "# sane function but easier to see, i run from 1 to n\n",
    "def fact_iter_other(n):\n",
    "    answer = 1\n",
    "    for i in range(i, n+1):\n",
    "        answer *= i\n",
    "    return answer"
   ]
  },
  {
   "cell_type": "code",
   "execution_count": 63,
   "metadata": {},
   "outputs": [],
   "source": [
    "# factorial calculation. Recursion implementation\n",
    "def fact_recur(n):\n",
    "    if (n > 1):\n",
    "        return n*fact_iter(n-1)"
   ]
  },
  {
   "cell_type": "code",
   "execution_count": 64,
   "metadata": {},
   "outputs": [],
   "source": [
    "# Linear Search, unsorted. We will see that linear search for sorted/unsorted list does not improve run time\n",
    "# => binary search\n",
    "def linear_search(L, e):\n",
    "    found = False\n",
    "    for i in range(len(L)):\n",
    "        if L[i] == e:\n",
    "            found = True\n",
    "            # can return here to reduce average runtime, but rate to inrease big(O) remains unchanged\n",
    "            # demonstrated in the next example\n",
    "    return False"
   ]
  },
  {
   "cell_type": "code",
   "execution_count": null,
   "metadata": {},
   "outputs": [],
   "source": [
    "# Linear Search for sorted list (ascending order)\n",
    "def linear_search_sorted(L, e):\n",
    "    for i in range(len(L)):\n",
    "        if L[i] == e:\n",
    "            return True\n",
    "        # this elif can reduce average run time, but once again, the worst case scenario still N\n",
    "        # therefore rate of increase  still O(n)\n",
    "        elif L[i] > i:\n",
    "            return False\n",
    "    return False"
   ]
  },
  {
   "cell_type": "code",
   "execution_count": null,
   "metadata": {},
   "outputs": [],
   "source": [
    "# Add digit in a string of digit. f(\"123\") = 1 + 2 + 3 = 6\n",
    "# in order to find sum, we have no choice but loop through a stirng of len = N\n",
    "# thus Time complexity = O(n)\n",
    "def addDigits(s):\n",
    "    val = 0\n",
    "    for i in s:\n",
    "        val += int(i)\n",
    "    return val"
   ]
  },
  {
   "cell_type": "markdown",
   "metadata": {},
   "source": [
    "2: Polynomial O(N^2)\n",
    "Usually are quadratic Complexity 0(N^2): Nest loop. Problem related to set, subset tend to be quadratic complexity"
   ]
  },
  {
   "cell_type": "code",
   "execution_count": null,
   "metadata": {},
   "outputs": [],
   "source": [
    "# check if a set is a subset of second set\n",
    "# Every element of the first, appears in the second. They can both have the same size (different size: proper subset)\n",
    "def isSubset(L1, L2):\n",
    "    for e1 in L1:\n",
    "        # set initial matched to false for every element in L1\n",
    "        matched = False\n",
    "        # loop through every element in L2 and check with the current element in L1\n",
    "        for e2 in L2:\n",
    "            # if there is a matched we stop the loop to reduce ave runtime\n",
    "            if e1 == e2:\n",
    "                matched = True\n",
    "                break\n",
    "        # after we have completed the check loop. if matched still false => not a subset relaation\n",
    "        if not matched:\n",
    "            return False\n",
    "    # if the function still not return and run up to this point, all element in L1 matched\n",
    "    return True\n",
    "# So what is the run time for this function?\n",
    "# We assume L1 has n1 elements, L2 has n2 elements.\n",
    "# Loop through L1: n1 times (fixed)\n",
    "# for 1.....n1, we have to loop through L2. Each is n2 time(maybe less than but just make it simple)\n",
    "# total run time n1*n2. If n1 = n2\n",
    "# Time Complexity 0(N^2)"
   ]
  },
  {
   "cell_type": "code",
   "execution_count": null,
   "metadata": {},
   "outputs": [],
   "source": [
    "# find intersection of two list\n",
    "def intersect(L1, L2):\n",
    "    temp = []\n",
    "    for e1 in L1:\n",
    "        for e2 in L2:\n",
    "            if e1 == e2:\n",
    "                temp.append(e1)\n",
    "    res = []\n",
    "    for i in temp:\n",
    "        if not(i in res):\n",
    "            res.append(i)\n",
    "    return res\n",
    "# Assume two List have the same size N\n",
    "# for the first nested loop. Run time is N^2\n",
    "# for the second nested loop. Size of at most is N, size of res is at most N\n",
    "# Thus run time is N^2\n",
    "# Time complexity O(N^2 + N^2) = O(2N^2). Drop constant since we only care about rate of increase\n",
    "# Time complexity O(N^2)"
   ]
  },
  {
   "cell_type": "markdown",
   "metadata": {},
   "source": [
    "3)Logarithmic O(logN)\n",
    "Usually a problem where sample size is reduce in half, in third,... The constant of log (or base) does not matter, it is just a constant"
   ]
  },
  {
   "cell_type": "code",
   "execution_count": null,
   "metadata": {},
   "outputs": [],
   "source": [
    "# bisection/binary search_first implementation\n",
    "# L is ascending sorted list\n",
    "def bisect_search(L,e):\n",
    "    if L == []:\n",
    "        return False\n",
    "    elif len(L) == 1:\n",
    "        return L[0] == e\n",
    "    else:\n",
    "        half = len(L) / 2\n",
    "        if half > e:\n",
    "            return bisect_search(L[:half], e)\n",
    "        else:\n",
    "            return bisect_search(L[half:], e)\n",
    "# for a list of length N. we continously divided len by 2 until we have an empty list or a list of size 1\n",
    "# runtime is clearly log(N), base 2. However, don't forget that L[:half] will create a coppy of List\n",
    "# not an implementation of pointer. For every step from 1 to log(N) we have to create a coppy of List size at most N\n",
    "# Thus, run time is O(N*log(N))\n",
    "# Note:\n",
    "# We can reduce ave run time by add one more condition for the last if statemnet\n",
    "# elif half == e: return True. One again, this addtion of code won't affect big O\n",
    "# Next example will"
   ]
  },
  {
   "cell_type": "code",
   "execution_count": null,
   "metadata": {},
   "outputs": [],
   "source": [
    "def bisect_search_pointer(L, e, low, high):\n",
    "    if low > high:\n",
    "        return False\n",
    "    elif low == high:\n",
    "        return L[low] == e\n",
    "    else:\n",
    "        mid = (low + high) / 2\n",
    "        if L[mid] == e:\n",
    "            return True\n",
    "        elif L[mid] < e:\n",
    "            bisect_search(L, e, mid+1, high)\n",
    "        else:\n",
    "            bisect_search(L,e, low, mid -1);\n",
    "# This rate of change is O(log(N))"
   ]
  },
  {
   "cell_type": "code",
   "execution_count": 69,
   "metadata": {},
   "outputs": [
    {
     "data": {
      "text/plain": [
       "'1223'"
      ]
     },
     "execution_count": 69,
     "metadata": {},
     "output_type": "execute_result"
    }
   ],
   "source": [
    "# convert in to string 48 to \"48\". This is actualy a built-in function to_string() in c or str() in python\n",
    "def IntToSrt(i):\n",
    "    digits = '0123456789'\n",
    "    if i == 0:\n",
    "        return '0'\n",
    "    result = ''\n",
    "    while i > 0:\n",
    "        # this is brilliant\n",
    "        result = digits[i % 10] + result\n",
    "        i = i // 10\n",
    "    return result\n",
    "# The problem itseft might sounds NOT LOGARITH, but the algorithm used here is logarith\n",
    "# we only stop when integer i is less than 10 (i//10 == 0). It is important to use // insted of /(decimal) in python \n",
    "# In sum up, we start at N = i and start to chopped i by 10 until it is less than 10. This is logarith base 10"
   ]
  },
  {
   "cell_type": "markdown",
   "metadata": {},
   "source": [
    "4)Exponential O(2^N)\n",
    "Usually a binary tree problem where a tree with depth of N will result in 2^N nodes, power set, recursive function with multiple call(2^N, 3^N,...)"
   ]
  },
  {
   "cell_type": "code",
   "execution_count": 74,
   "metadata": {},
   "outputs": [
    {
     "data": {
      "text/plain": [
       "[[], [1], [2], [1, 2], [3], [1, 3], [2, 3], [1, 2, 3]]"
      ]
     },
     "execution_count": 74,
     "metadata": {},
     "output_type": "execute_result"
    }
   ],
   "source": [
    "# generate a subsets of L\n",
    "def GenSubSet(L):\n",
    "    if len(L) == 0:\n",
    "        return [[]] # return a list of empty list\n",
    "    smaller = GenSubSet(L[:-1]) # all subsets without the last element\n",
    "    extra = L[-1:] # create a list of just the last element\n",
    "    new = []\n",
    "    for small in smaller:\n",
    "        new.append(small + extra) # for all smaller solutions, add one with the last element\n",
    "    return smaller + new # combine those with last element and those without\n",
    "GenSubSet([1,2,3])\n",
    "# number of element in power set is 2^n -1. Thus, it is reasonable to said that run time of this fuction is O(2^n)\n",
    "# in order to generate all member of power set"
   ]
  },
  {
   "cell_type": "code",
   "execution_count": 78,
   "metadata": {},
   "outputs": [
    {
     "data": {
      "text/plain": [
       "1"
      ]
     },
     "execution_count": 78,
     "metadata": {},
     "output_type": "execute_result"
    }
   ],
   "source": [
    "# fibonaci iterative\n",
    "def fib_iter(n):\n",
    "    if n == 0:\n",
    "        return 0\n",
    "    elif n == 1:\n",
    "        return 1\n",
    "    else:\n",
    "        fib_i = 0\n",
    "        fib_ii = 1\n",
    "        for i in range(n-1):\n",
    "            temp = fib_i\n",
    "            fib_i = fib_ii\n",
    "            fib_ii = temp + fib_ii\n",
    "        return fib_ii\n",
    "# mathematical method, this function resemble how human calculate fib. This is linear time.\n",
    "# i run from i to n - 1\n",
    "fib_iter(2)"
   ]
  },
  {
   "cell_type": "code",
   "execution_count": 80,
   "metadata": {},
   "outputs": [
    {
     "data": {
      "text/plain": [
       "3"
      ]
     },
     "execution_count": 80,
     "metadata": {},
     "output_type": "execute_result"
    }
   ],
   "source": [
    "#fibonaci recursive\n",
    "def fib_recur(n):\n",
    "    if n == 0:\n",
    "        return 0\n",
    "    elif n == 1:\n",
    "        return 1\n",
    "    else:\n",
    "        return fib_recur(n-1) + fib_recur(n-2)\n",
    "# much more simplier than the iterative implementation. \n",
    "# time complexity is not stricly speeking O(2^n). Each recursive call 2 sub function\n",
    "# Strictly speaking time complexity is 1.6^n. This is not a balance binary tree. Note that base 1.6 is still exponential"
   ]
  }
 ],
 "metadata": {
  "kernelspec": {
   "display_name": "Python 3.9.13 ('base')",
   "language": "python",
   "name": "python3"
  },
  "language_info": {
   "codemirror_mode": {
    "name": "ipython",
    "version": 3
   },
   "file_extension": ".py",
   "mimetype": "text/x-python",
   "name": "python",
   "nbconvert_exporter": "python",
   "pygments_lexer": "ipython3",
   "version": "3.9.13"
  },
  "orig_nbformat": 4,
  "vscode": {
   "interpreter": {
    "hash": "2dd167f9a55a8bf4e24a89b39ca27ec3ee408ce20f35c5d55956cdcf329d3c9c"
   }
  }
 },
 "nbformat": 4,
 "nbformat_minor": 2
}
