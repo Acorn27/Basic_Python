{
 "cells": [
  {
   "attachments": {},
   "cell_type": "markdown",
   "metadata": {},
   "source": [
    "Linked List Implementation: Comparasion between Python and C"
   ]
  },
  {
   "cell_type": "code",
   "execution_count": 240,
   "metadata": {},
   "outputs": [],
   "source": [
    "# similar to struct in C, although class is more OOB(encapsulate both function and data)\n",
    "# this implementation is a singly linked lists\n",
    "class Node:\n",
    "    # self represents the instance of the class, used to access the attributes and methods of the class in python\n",
    "    # binds the attributes with the arguments\n",
    "    def __init__(self, data):\n",
    "        self.data = data\n",
    "        self.next = None\n",
    "    \n",
    "    # helpful representation of the objects by string\n",
    "    def __repr__(self):\n",
    "        return self.data\n",
    "\n",
    "# only store head for LinkedList\n",
    "class LinkedList:\n",
    "    def __init__(self):\n",
    "        self.head = None\n",
    "    \n",
    "    # call by simple use the linked list name or repr(LinkedList Name)\n",
    "    def __repr__(self):\n",
    "        node = self.head\n",
    "        nodes = []\n",
    "        while node is not None:\n",
    "            nodes.append(node.data)\n",
    "            node = node.next\n",
    "        nodes.append(\"None\")\n",
    "        return \" -> \".join(nodes)\n",
    "\n",
    "    # allow node to be iterable/ behave like a normal list \n",
    "    def __iter__(self):\n",
    "        node = self.head\n",
    "        while node is not None:\n",
    "            yield node\n",
    "            node = node.next\n",
    "\n",
    "    def add_first(self, node):\n",
    "        node.next = self.head\n",
    "        self.head = node\n",
    "    \n",
    "    def add_last(self, node):\n",
    "        temp = self.head\n",
    "        if self.head is None:\n",
    "            self.head = node\n",
    "            return\n",
    "        for current_node in self:\n",
    "            pass\n",
    "        current_node.next = node\n",
    "    \n",
    "    def add_after(self, target_node_data, new_node):\n",
    "        if self.head is None:\n",
    "            raise Exception(\"List is empty\")\n",
    "\n",
    "        for node in self:\n",
    "            if node.data == target_node_data:\n",
    "                new_node.next = node.next\n",
    "                node.next = new_node\n",
    "                return\n",
    "        \n",
    "        raise Exception(\"Node with data '%s' not found\" %target_node_data)\n",
    "    \n",
    "    def add_before(self, target_node_data, node):\n",
    "        if self.head is None:\n",
    "            raise Exception(\"List is empty\")\n",
    "        elif self.head.data == target_node_data:\n",
    "            return self.add_first(node)\n",
    "        else:\n",
    "            prev_node = None\n",
    "            for current_node in self:\n",
    "                if current_node.data == target_node_data:\n",
    "                    prev_node.next = node\n",
    "                    node.next = current_node\n",
    "                    return\n",
    "                prev_node = current_node\n",
    "        \n",
    "        raise Exception(\"Node with data '%s' not found\" %target_node_data)\n"
   ]
  },
  {
   "cell_type": "code",
   "execution_count": 241,
   "metadata": {},
   "outputs": [],
   "source": [
    "# initilized node\n",
    "llist = LinkedList()\n",
    "first_node = Node(\"a\")\n",
    "llist.head = first_node\n",
    "second_node = Node(\"b\")\n",
    "first_node.next = second_node\n",
    "third_node = Node(\"c\")\n",
    "second_node.next = third_node"
   ]
  },
  {
   "cell_type": "code",
   "execution_count": 242,
   "metadata": {},
   "outputs": [
    {
     "data": {
      "text/plain": [
       "'a -> b -> c -> None'"
      ]
     },
     "execution_count": 242,
     "metadata": {},
     "output_type": "execute_result"
    }
   ],
   "source": [
    "# print linked list head\n",
    "repr(llist)"
   ]
  },
  {
   "cell_type": "code",
   "execution_count": 243,
   "metadata": {},
   "outputs": [
    {
     "data": {
      "text/plain": [
       "a -> b -> c -> None"
      ]
     },
     "execution_count": 243,
     "metadata": {},
     "output_type": "execute_result"
    }
   ],
   "source": [
    "llist"
   ]
  },
  {
   "cell_type": "code",
   "execution_count": 244,
   "metadata": {},
   "outputs": [
    {
     "name": "stdout",
     "output_type": "stream",
     "text": [
      "a\n",
      "b\n",
      "c\n"
     ]
    }
   ],
   "source": [
    "# different to print llist\n",
    "# it won't work unless we define __iter__\n",
    "for node in llist:\n",
    "    print(node)"
   ]
  },
  {
   "cell_type": "code",
   "execution_count": 245,
   "metadata": {},
   "outputs": [
    {
     "data": {
      "text/plain": [
       "a -> b -> c -> d -> g_before -> g -> g_after -> None"
      ]
     },
     "execution_count": 245,
     "metadata": {},
     "output_type": "execute_result"
    }
   ],
   "source": [
    "llist.add_last(Node(\"d\"))\n",
    "llist.add_last(Node(\"g\"))\n",
    "llist.add_after('g', Node(\"g_after\"))\n",
    "llist.add_before('g',Node(\"g_before\"))\n",
    "llist"
   ]
  },
  {
   "attachments": {},
   "cell_type": "markdown",
   "metadata": {},
   "source": [
    "Continue tomorrow: https://realpython.com/linked-lists-python/"
   ]
  }
 ],
 "metadata": {
  "kernelspec": {
   "display_name": "Python 3",
   "language": "python",
   "name": "python3"
  },
  "language_info": {
   "codemirror_mode": {
    "name": "ipython",
    "version": 3
   },
   "file_extension": ".py",
   "mimetype": "text/x-python",
   "name": "python",
   "nbconvert_exporter": "python",
   "pygments_lexer": "ipython3",
   "version": "3.10.9 (tags/v3.10.9:1dd9be6, Dec  6 2022, 20:01:21) [MSC v.1934 64 bit (AMD64)]"
  },
  "orig_nbformat": 4,
  "vscode": {
   "interpreter": {
    "hash": "db5902bef6fbb540be01d02f30318740d49421a2fd2c6f004eefb58f791e6d69"
   }
  }
 },
 "nbformat": 4,
 "nbformat_minor": 2
}
