{
 "cells": [
  {
   "attachments": {},
   "cell_type": "markdown",
   "metadata": {},
   "source": [
    "Linked List Implementation: Comparasion between Python and C"
   ]
  },
  {
   "cell_type": "code",
   "execution_count": 29,
   "metadata": {},
   "outputs": [
    {
     "data": {
      "text/plain": [
       "'a -> b -> None'"
      ]
     },
     "execution_count": 29,
     "metadata": {},
     "output_type": "execute_result"
    }
   ],
   "source": [
    "# similar to struct in C, although class is more OOB(encapsulate both function and data)\n",
    "# this implementation is a singly linked lists\n",
    "class Node:\n",
    "    # self represents the instance of the class, used to access the attributes and methods of the class in python\n",
    "    # binds the attributes with the arguments\n",
    "    def __init__(self, data):\n",
    "        self.data = data\n",
    "        self.next = None\n",
    "    \n",
    "    # helpful representation of the objects by string\n",
    "    def __repr__(self):\n",
    "        return self.data\n",
    "\n",
    "# only store head for LinkedList\n",
    "class LinkedList:\n",
    "    def __init__(self):\n",
    "        self.head = None\n",
    "    \n",
    "    def __repr__(self):\n",
    "        node = self.head\n",
    "        nodes = []\n",
    "        while node is not None:\n",
    "            nodes.append(node.data)\n",
    "            node = node.next\n",
    "        nodes.append(\"None\")\n",
    "        return \" -> \".join(nodes)\n",
    "\n",
    "    def listprint(self):\n",
    "        printval = self.head\n",
    "        while printval is not None:\n",
    "            print(printval.data)\n",
    "            printval = printval.next\n",
    "    \n",
    "    def AtBeginning(self, newData):\n",
    "        NewNode = Node(newData)\n",
    "        NewNode.next = self.head\n",
    "        self.head = NewNode\n",
    "\n",
    "    def AtEnd(self, newData):\n",
    "        NewNode = Node(newData)\n",
    "        if self.head is None:\n",
    "            self.head = NewNode\n",
    "            return\n",
    "        else:\n",
    "            last = self.head\n",
    "            while (last.next):\n",
    "                last = last.next\n",
    "            last.next = NewNode\n",
    "\n",
    "\n",
    "\n",
    "llist = LinkedList()\n",
    "llist\n",
    "\n",
    "first_node = Node(\"a\")\n",
    "llist.head = first_node\n",
    "second_node = Node(\"b\")\n",
    "llist.head.next = second_node\n",
    "repr(llist)\n"
   ]
  }
 ],
 "metadata": {
  "kernelspec": {
   "display_name": "Python 3",
   "language": "python",
   "name": "python3"
  },
  "language_info": {
   "codemirror_mode": {
    "name": "ipython",
    "version": 3
   },
   "file_extension": ".py",
   "mimetype": "text/x-python",
   "name": "python",
   "nbconvert_exporter": "python",
   "pygments_lexer": "ipython3",
   "version": "3.10.9"
  },
  "orig_nbformat": 4,
  "vscode": {
   "interpreter": {
    "hash": "db5902bef6fbb540be01d02f30318740d49421a2fd2c6f004eefb58f791e6d69"
   }
  }
 },
 "nbformat": 4,
 "nbformat_minor": 2
}
