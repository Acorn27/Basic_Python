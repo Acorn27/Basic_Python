{
 "cells": [
  {
   "attachments": {},
   "cell_type": "markdown",
   "metadata": {},
   "source": [
    "Linked List Implementation: Comparasion between Python and C"
   ]
  },
  {
   "cell_type": "code",
   "execution_count": 67,
   "metadata": {},
   "outputs": [
    {
     "data": {
      "text/plain": [
       "'a -> b -> c -> d -> e -> None'"
      ]
     },
     "execution_count": 67,
     "metadata": {},
     "output_type": "execute_result"
    }
   ],
   "source": [
    "# similar to struct in C, although class is more OOB(encapsulate both function and data)\n",
    "# this implementation is a singly linked lists\n",
    "class Node(object):\n",
    "    # self represents the instance of the class, used to access the attributes and methods of the class in python\n",
    "    # binds the attributes with the arguments\n",
    "    # data if not initilized will be set to \"EMPTY\"\n",
    "    def __init__(self, data=\"EMPTY\"):\n",
    "        self.data = data\n",
    "        self.next = None\n",
    "    \n",
    "    # helpful representation of the objects by string\n",
    "    def __repr__(self):\n",
    "        return self.data\n",
    "# bonus: Python is not good at information hiding\n",
    "#   print(instance.data) give our access to data from outside class definition\n",
    "#   instance.data = newdata let you modify data \n",
    "#   instance.data2 = newdata2 let you create a new data attribute for class outside class definition\n",
    "# IT IS NOT A GOOD STYLE TO DO SO\n",
    "\n",
    "# LinkedList Head\n",
    "class LinkedList(object):\n",
    "    def __init__(self, nodes = None):\n",
    "        self.head = None\n",
    "        if nodes is not None:\n",
    "            node = Node(data = nodes.pop(0))\n",
    "            self.head = node\n",
    "            for elem in nodes:\n",
    "                node.next = Node(data = elem)\n",
    "                node = node.next\n",
    "    \n",
    "    # call by simple use the linked list name or repr(LinkedList Name)\n",
    "    # display linked list data\n",
    "    def __repr__(self):\n",
    "        node = self.head\n",
    "        nodes = []\n",
    "        while node is not None:\n",
    "            nodes.append(node.data)\n",
    "            node = node.next\n",
    "        nodes.append(\"None\")\n",
    "        return \" -> \".join(nodes)\n",
    "\n",
    "    # allow node to be iterable/ behave like a normal list \n",
    "    def __iter__(self):\n",
    "        node = self.head\n",
    "        while node is not None:\n",
    "            yield node\n",
    "            node = node.next\n",
    "\n",
    "    def add_first(self, node):\n",
    "        # we don't have to check for value of self.head since it will be assign to node anyway\n",
    "        node.next = self.head\n",
    "        self.head = node\n",
    "    \n",
    "    def add_last(self, node):\n",
    "        temp = self.head\n",
    "        if self.head is None:\n",
    "            self.head = node\n",
    "            return\n",
    "        for current_node in self:\n",
    "            pass\n",
    "        current_node.next = node\n",
    "    \n",
    "    def add_after(self, target_node_data, new_node):\n",
    "        \n",
    "        if self.head is None:\n",
    "            raise Exception(\"List is empty\")\n",
    "\n",
    "        for node in self:\n",
    "            if node.data == target_node_data:\n",
    "                new_node.next = node.next\n",
    "                node.next = new_node\n",
    "                return\n",
    "        \n",
    "        raise Exception(\"Node with data '%s' not found\" %target_node_data)\n",
    "    \n",
    "    def add_before(self, target_node_data, node):\n",
    "        if self.head is None:\n",
    "            raise Exception(\"List is empty\")\n",
    "        elif self.head.data == target_node_data:\n",
    "            return self.add_first(node)\n",
    "        else:\n",
    "            prev_node = None\n",
    "            for current_node in self:\n",
    "                if current_node.data == target_node_data:\n",
    "                    prev_node.next = node\n",
    "                    node.next = current_node\n",
    "                    return\n",
    "                prev_node = current_node\n",
    "        \n",
    "        raise Exception(\"Node with data '%s' not found\" %target_node_data)\n",
    "\n",
    "    # delete a node\n",
    "    def remove_node(self, target_node_data):\n",
    "        if self.head is None:\n",
    "            raise Exception(\"List is empty\")\n",
    "        elif self.head.data == target_node_data:\n",
    "            self.head = self.head.next\n",
    "            return\n",
    "            # we don't have to free memory in python, built-in garbage collector do the job\n",
    "        else:\n",
    "            previous_node = None\n",
    "            # we can do this thank to def __iter__\n",
    "            for node in self:\n",
    "                if node.data == target_node_data:\n",
    "                    previous_node.next = node.next\n",
    "                    return\n",
    "                previous_node = node\n",
    "        \n",
    "        raise Exception(\"Node with data %s not found\" %target_node_data)\n",
    "    \n",
    "    def reverse_node(self):\n",
    "        prev_node = None\n",
    "        current_node = self.head\n",
    "        while current_node is not None:\n",
    "            next_node = current_node.next\n",
    "            current_node.next = prev_node\n",
    "            prev_node = current_node\n",
    "            current_node = next_node\n",
    "        self.head = prev_node\n",
    "\n",
    "    def reverse_node_from(self, target_node_data):\n",
    "        \n",
    "        for node in self:\n",
    "            if node.next.data == target_node_data:\n",
    "                #print(\"stop at node %s\" %node.data)\n",
    "                prev_node = None\n",
    "                current_node = node.next\n",
    "                while current_node is not None:\n",
    "                    next_node = current_node.next\n",
    "                    current_node.next = prev_node\n",
    "                    prev_node = current_node\n",
    "                    current_node = next_node        \n",
    "                node.next = prev_node\n",
    "            return\n",
    "        raise Exception(\"Node with data %s is not found\" %target_node_data)\n",
    "\n",
    "llist = LinkedList([\"a\", \"b\", \"c\", \"d\", \"e\"])\n",
    "repr(llist)\n",
    "llist.reverse_node_from(\"a\")\n",
    "repr(llist)"
   ]
  },
  {
   "cell_type": "code",
   "execution_count": 36,
   "metadata": {},
   "outputs": [],
   "source": [
    "# initilized node\n",
    "llist = LinkedList()\n",
    "first_node = Node(\"a\")\n",
    "llist.head = first_node\n",
    "second_node = Node(\"b\")\n",
    "first_node.next = second_node\n",
    "third_node = Node(\"c\")\n",
    "second_node.next = third_node"
   ]
  },
  {
   "cell_type": "code",
   "execution_count": 37,
   "metadata": {},
   "outputs": [
    {
     "data": {
      "text/plain": [
       "'a -> b -> c -> None'"
      ]
     },
     "execution_count": 37,
     "metadata": {},
     "output_type": "execute_result"
    }
   ],
   "source": [
    "# print linked list head\n",
    "repr(llist)"
   ]
  },
  {
   "cell_type": "code",
   "execution_count": 38,
   "metadata": {},
   "outputs": [
    {
     "data": {
      "text/plain": [
       "a -> b -> c -> None"
      ]
     },
     "execution_count": 38,
     "metadata": {},
     "output_type": "execute_result"
    }
   ],
   "source": [
    "llist"
   ]
  },
  {
   "cell_type": "code",
   "execution_count": 39,
   "metadata": {},
   "outputs": [
    {
     "name": "stdout",
     "output_type": "stream",
     "text": [
      "a\n",
      "b\n",
      "c\n"
     ]
    }
   ],
   "source": [
    "# different to print llist\n",
    "# it won't work unless we define __iter__\n",
    "for node in llist:\n",
    "    print(node)"
   ]
  },
  {
   "cell_type": "code",
   "execution_count": 40,
   "metadata": {},
   "outputs": [
    {
     "data": {
      "text/plain": [
       "a -> b -> c -> d -> g_before -> g -> g_after -> None"
      ]
     },
     "execution_count": 40,
     "metadata": {},
     "output_type": "execute_result"
    }
   ],
   "source": [
    "llist.add_last(Node(\"d\"))\n",
    "llist.add_last(Node(\"g\"))\n",
    "llist.add_after('g', Node(\"g_after\"))\n",
    "llist.add_before('g',Node(\"g_before\"))\n",
    "llist"
   ]
  },
  {
   "attachments": {},
   "cell_type": "markdown",
   "metadata": {},
   "source": [
    "Continue tomorrow: https://realpython.com/linked-lists-python/"
   ]
  }
 ],
 "metadata": {
  "kernelspec": {
   "display_name": "Python 3",
   "language": "python",
   "name": "python3"
  },
  "language_info": {
   "codemirror_mode": {
    "name": "ipython",
    "version": 3
   },
   "file_extension": ".py",
   "mimetype": "text/x-python",
   "name": "python",
   "nbconvert_exporter": "python",
   "pygments_lexer": "ipython3",
   "version": "3.10.9 (tags/v3.10.9:1dd9be6, Dec  6 2022, 20:01:21) [MSC v.1934 64 bit (AMD64)]"
  },
  "orig_nbformat": 4,
  "vscode": {
   "interpreter": {
    "hash": "db5902bef6fbb540be01d02f30318740d49421a2fd2c6f004eefb58f791e6d69"
   }
  }
 },
 "nbformat": 4,
 "nbformat_minor": 2
}
