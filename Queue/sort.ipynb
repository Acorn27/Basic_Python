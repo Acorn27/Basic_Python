{
 "cells": [
  {
   "attachments": {},
   "cell_type": "markdown",
   "metadata": {},
   "source": [
    "Direct Access Array Sort: O(u + n)\n",
    "if u = O(n) - (key asspciate with each item proportional to the number of items), then this algorithm is linear"
   ]
  },
  {
   "cell_type": "code",
   "execution_count": null,
   "metadata": {},
   "outputs": [],
   "source": [
    "def direct_access_sort(A):\n",
    "    \"Sort assume that items have distinct non-negative keys\"\n",
    "    u = 1 + max([x.key for x in A])     \n",
    "    D = [None] * u   \n",
    "    \" A list of None\"                  \n",
    "    for x in A:                         \n",
    "        D[x.key] = A[x]\n",
    "    i = 0\n",
    "    for key in range(u):\n",
    "        if D[key] is not None:\n",
    "            A[i] = D[key]\n",
    "            i += 1\n",
    "\"Draw back: can not handle duplicate keys or large key range\""
   ]
  },
  {
   "cell_type": "code",
   "execution_count": null,
   "metadata": {},
   "outputs": [],
   "source": [
    "def counting_sort(A):\n",
    "    \"solve duplicate keys problem\"\n",
    "    u = 1 + max([x.key for x in A])\n",
    "    D = [[] for i in range(u)]\n",
    "    \"A list of empty list\"\n",
    "    for x in A:\n",
    "        D[x.key].append(x)\n",
    "    i = 0\n",
    "    for chain in D:\n",
    "        for x in chain:\n",
    "            A[i] = x\n",
    "            i += 1"
   ]
  },
  {
   "attachments": {},
   "cell_type": "markdown",
   "metadata": {},
   "source": [
    "Bogo sort: Undefined"
   ]
  },
  {
   "cell_type": "code",
   "execution_count": null,
   "metadata": {},
   "outputs": [],
   "source": [
    "import random\n",
    "def is_sorted(L):\n",
    "    for i in range(len(L)-1):\n",
    "        if L[i] > L[i+1]:\n",
    "            return False\n",
    "    return True\n",
    "def bogo_sort(L):\n",
    "    while not is_sorted(L):\n",
    "        random.shuffle(L)"
   ]
  },
  {
   "attachments": {},
   "cell_type": "markdown",
   "metadata": {},
   "source": [
    "Bubble sort: O(N^2)"
   ]
  },
  {
   "cell_type": "code",
   "execution_count": null,
   "metadata": {},
   "outputs": [],
   "source": [
    "def buble_sort(L):\n",
    "    swap = True\n",
    "    while swap:\n",
    "        swap = False\n",
    "        for i in range(1, len(L)):\n",
    "            if (L[i-1] > L[i]):\n",
    "                swap = True \n",
    "                [L[i], L[i-1]] = [L[i-1], L[i]]"
   ]
  },
  {
   "attachments": {},
   "cell_type": "markdown",
   "metadata": {},
   "source": [
    "Selection sort O(N^2)"
   ]
  },
  {
   "cell_type": "code",
   "execution_count": null,
   "metadata": {},
   "outputs": [],
   "source": [
    "def selection_sort_iter(L):\n",
    "    suffixSt = 0\n",
    "    while suffixSt != len(L): \n",
    "        for i in range(suffixSt, len(L)):\n",
    "            smallest = suffixSt\n",
    "            if (L[i] < L[smallest]):\n",
    "                smallest = i\n",
    "        L[suffixSt], L[smallest] = L[smallest], L[suffixSt]\n",
    "        suffixSt += 1"
   ]
  },
  {
   "cell_type": "code",
   "execution_count": 11,
   "metadata": {},
   "outputs": [
    {
     "data": {
      "text/plain": [
       "[1, 2, 3, 6, 7, 12, 500, 1902]"
      ]
     },
     "execution_count": 11,
     "metadata": {},
     "output_type": "execute_result"
    }
   ],
   "source": [
    "def prefix_max(L, i):\n",
    "    # return index of maximun in A[:i+1]\n",
    "    if i > 0:   # also mean base case is i = 0, in this case we return i (return 0)\n",
    "        j = prefix_max(L, i-1)  # induction, we assume prefix_max return index of max element L[:i]\n",
    "        if L[j] > L[i]: # assume that induction step holds true, what will we do next, compare \n",
    "            return j\n",
    "            # adding else return i is more precisely but abundance\n",
    "    return i\n",
    "def selection_sort_recur(L, i = None):\n",
    "    # sort L[:i+1]\n",
    "    if i == None: i = len(L) - 1\n",
    "    if i > 0: # base case i = 0, there is only one element and it is already sorted, return nothing\n",
    "        j = prefix_max(L, i-1) # we know it will return index of the largest element from 0 to i -1\n",
    "        if L[i] < L[j]: # compare and swap\n",
    "            L[i], L[j] = L[j], L[i]\n",
    "        selection_sort_recur(L,i-1) # now we already have the largest element at the end, reduce i by 1"
   ]
  },
  {
   "attachments": {},
   "cell_type": "markdown",
   "metadata": {},
   "source": [
    "Insertion sort: O(N^2)"
   ]
  },
  {
   "cell_type": "code",
   "execution_count": 12,
   "metadata": {},
   "outputs": [
    {
     "data": {
      "text/plain": [
       "[-5, 5, 7, 10, 13, 15, 23]"
      ]
     },
     "execution_count": 12,
     "metadata": {},
     "output_type": "execute_result"
    }
   ],
   "source": [
    "def insert_last(L, i):\n",
    "    # repeatedly move l[i] backward until it is in its correct index, location\n",
    "    if i > 0 and L[i] < L[i-1]:\n",
    "        L[i], L[i-1] = L[i-1], L[i]\n",
    "        insert_last(L, i-1)\n",
    "\n",
    "def insertion_sort(L, i = None):\n",
    "    if i == None: i = len(L) - 1    # i is the last index\n",
    "    if i > 0:\n",
    "        insertion_sort(L, i-1)  # move back to base case\n",
    "        insert_last(L, i)\n",
    "L = [13,15,5,7,10,23,-5]\n",
    "insertion_sort(L)"
   ]
  },
  {
   "attachments": {},
   "cell_type": "markdown",
   "metadata": {},
   "source": [
    "Merge sort O(NLogN)"
   ]
  },
  {
   "cell_type": "code",
   "execution_count": null,
   "metadata": {},
   "outputs": [],
   "source": [
    "def merge(left, right):\n",
    "    result = []\n",
    "    i,j = 0,0\n",
    "    while i < len(left) and j < len(right):\n",
    "        if left[i] < right[j]:\n",
    "            result.append(left[i])\n",
    "            i += 1\n",
    "        else:\n",
    "            result.append(right[j])\n",
    "            j += 1\n",
    "    while (i < len(left)):\n",
    "        result.append(left[i])\n",
    "        i += 1\n",
    "    while (j < len(right)):\n",
    "        result.append(right[j])\n",
    "        j += 1\n",
    "    return result\n",
    "\n",
    "def merge_sort_iter(L):\n",
    "    if len(L) < 2:\n",
    "        return L[:]\n",
    "    else:\n",
    "        middle = len(L) // 2\n",
    "        left = merge_sort_iter(L[:middle])\n",
    "        right = merge_sort_iter(L[middle:])\n",
    "        return merge(left,right)"
   ]
  },
  {
   "cell_type": "code",
   "execution_count": 17,
   "metadata": {},
   "outputs": [
    {
     "data": {
      "text/plain": [
       "[-5, 5, 7, 10, 13, 15, 23]"
      ]
     },
     "execution_count": 17,
     "metadata": {},
     "output_type": "execute_result"
    }
   ],
   "source": [
    "def merge_sort(A, a = 0, b = None):\n",
    "    # sort A[a,b]\n",
    "    if b is None: b = len(A)\n",
    "    if 1 < b - a:\n",
    "        c = (a + b + 1) // 2\n",
    "        merge_sort(A, a, c)\n",
    "        merge_sort(A, c, b)\n",
    "        L, R = A[a:c], A[c:b]\n",
    "        merge(L, R, A, len(L), len(R), a, b)\n",
    "\n",
    "def merge(L, R, A, i, j, a, b):\n",
    "    if a < b:\n",
    "        if (j <= 0) or (i > 0 and L[i-1] > R[j-1]):\n",
    "            A[b - 1] = L[i - 1]\n",
    "            i = i -1\n",
    "        else:\n",
    "            A[b - 1] = R[j - 1]\n",
    "            j = j -1\n",
    "        merge(L, R, A, i, j, a, b-1)\n",
    "L = [13,15,5,7,10,23,-5]\n",
    "merge_sort(L)\n",
    "L"
   ]
  }
 ],
 "metadata": {
  "kernelspec": {
   "display_name": "Python 3",
   "language": "python",
   "name": "python3"
  },
  "language_info": {
   "codemirror_mode": {
    "name": "ipython",
    "version": 3
   },
   "file_extension": ".py",
   "mimetype": "text/x-python",
   "name": "python",
   "nbconvert_exporter": "python",
   "pygments_lexer": "ipython3",
   "version": "3.10.9 (tags/v3.10.9:1dd9be6, Dec  6 2022, 20:01:21) [MSC v.1934 64 bit (AMD64)]"
  },
  "orig_nbformat": 4,
  "vscode": {
   "interpreter": {
    "hash": "db5902bef6fbb540be01d02f30318740d49421a2fd2c6f004eefb58f791e6d69"
   }
  }
 },
 "nbformat": 4,
 "nbformat_minor": 2
}
