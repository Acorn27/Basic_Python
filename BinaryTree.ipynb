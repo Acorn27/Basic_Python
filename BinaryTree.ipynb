{
 "cells": [
  {
   "cell_type": "code",
   "execution_count": 108,
   "metadata": {},
   "outputs": [],
   "source": [
    "#h is height of the tree, assume log(n), where n is the number of nodes\n",
    "class Binary_Node:\n",
    "    # node \n",
    "    def __init__(A,x):\n",
    "        A.item = x\n",
    "        A.left = None\n",
    "        A.right = None\n",
    "        A.parent = None\n",
    "\n",
    "    # O(n): inorder traversal\n",
    "    def subtree_iter(A):\n",
    "        if A.left: yield from A.left.subtree_iter()\n",
    "        yield A\n",
    "        if A.right: yield from A.right.subtree_iter()\n",
    "    \n",
    "    # O(h): return the left most node in the subtree, assume the largest\n",
    "    def subtree_first(A):\n",
    "        if A.left: return A.left.subtree_first()\n",
    "        else: return A\n",
    "    \n",
    "    # O(h): reuturn the right most node in the subtree, assume the smallest\n",
    "    def subtree_last(A):\n",
    "        if A.right: return A.right.subtree_last()\n",
    "        else: return A\n",
    "\n",
    "    # O(h) return the successor\n",
    "    def successor(A):\n",
    "        if A.right: return A.right.subtree_first()\n",
    "        # find the lowest ancestor of <A> such that <A> is in the ancestor left tree (while loop stop when A is not A.parent.right)\n",
    "        while A.parent and (A is A.parent.right):\n",
    "            A = A.parent\n",
    "        # we need to return A.parent since <A> is currently a root of subtree\n",
    "        return A.parent\n",
    "\n",
    "    # O(h) return the predecesor\n",
    "    def predecessor(A):\n",
    "        if A.left: return A.left.subtree_last()\n",
    "        # find the the lowest ancestor of <A> such that <A> is in the ancestor right tree (while loop stop when A is not A.parent.left)\n",
    "        while A.parent and (A is A.parent.left):\n",
    "            A = A.parent\n",
    "        # we need to return A.parent since <A> is currently a root of subtree\n",
    "        return A.parent\n",
    "    \n",
    "    # O(h) insert node B before a given node A\n",
    "    def subtree_insert_before(A, B):\n",
    "        # insert B to the right of the right most node in A.left subtree\n",
    "        if A.left:\n",
    "            A = A.left.subtree_last()\n",
    "            A.right, B.parent = B, A\n",
    "        else:\n",
    "            A.left, B.parent = B, A\n",
    "    \n",
    "    # O(h) insert node B after a given node A\n",
    "    def subtree_insert_after(A, B):\n",
    "        # insert B to the left of the left most node in A.right subtree\n",
    "        if A.right:\n",
    "            A = A.right.subtree_first()\n",
    "            A.left, B.parent = B, A\n",
    "        else:\n",
    "            A.right, B.parent = B, A\n",
    "    \n",
    "    # O(h) delete node while maintain the order\n",
    "    def subtree_delete(A):\n",
    "        if A.left or A.right:\n",
    "            if A.left: B = A.predecessor()\n",
    "            else: B = A.successor()\n",
    "            A.item, B.item = B.item, A.item\n",
    "            return B.subtree_delete()\n",
    "        if A.parent:\n",
    "            if A.parent.left is A: A.parent.left = None\n",
    "            else: A.parent.right = None\n",
    "        return A"
   ]
  },
  {
   "cell_type": "code",
   "execution_count": 109,
   "metadata": {},
   "outputs": [],
   "source": [
    "# Top-Level Data Structure\n",
    "class Binary_Tree:\n",
    "    def __init__(T, Node_Type = Binary_Node):\n",
    "        T.root = None\n",
    "        T.size = 0\n",
    "        T.Node_Type = Node_Type\n",
    "\n",
    "    def __len__(T): return T.size()\n",
    "\n",
    "    def __iter__(T):\n",
    "        for A in T.root.subtree_iter():\n",
    "            yield A.item\n",
    "\n",
    "    # Build Binary Tree from array that preserve the extrinsic order of array      \n",
    "    def build(self, X):\n",
    "        # A is a coppied array of X\n",
    "        A = [x for x in X]\n",
    "        # build a subtree of array contains A[i] to A[j]\n",
    "        def build_subtree(A, i, j):\n",
    "            c = (i + j) // 2            # find the middle\n",
    "            root = self.Node_Type(A[c]) # == Binary_Node(A[middle])\n",
    "            if i < c:\n",
    "                root.left = build_subtree(A, i, c - 1)\n",
    "                root.left.parent = root\n",
    "            if c < j:\n",
    "                root.right = build_subtree(A, c + 1, j)\n",
    "                root.right.parent = root\n",
    "            # base case when i >= c and c >= j\n",
    "            return root\n",
    "        self.root = build_subtree(A, 0, len(A) - 1)\n"
   ]
  },
  {
   "cell_type": "code",
   "execution_count": 110,
   "metadata": {},
   "outputs": [
    {
     "data": {
      "text/plain": [
       "9"
      ]
     },
     "execution_count": 110,
     "metadata": {},
     "output_type": "execute_result"
    }
   ],
   "source": [
    "BST = Binary_Tree()\n",
    "BST.build([5,6,7,8,9])\n",
    "BST.root.subtree_last().item"
   ]
  },
  {
   "cell_type": "code",
   "execution_count": null,
   "metadata": {},
   "outputs": [],
   "source": []
  }
 ],
 "metadata": {
  "kernelspec": {
   "display_name": "Python 3",
   "language": "python",
   "name": "python3"
  },
  "language_info": {
   "codemirror_mode": {
    "name": "ipython",
    "version": 3
   },
   "file_extension": ".py",
   "mimetype": "text/x-python",
   "name": "python",
   "nbconvert_exporter": "python",
   "pygments_lexer": "ipython3",
   "version": "3.10.9"
  },
  "orig_nbformat": 4,
  "vscode": {
   "interpreter": {
    "hash": "db5902bef6fbb540be01d02f30318740d49421a2fd2c6f004eefb58f791e6d69"
   }
  }
 },
 "nbformat": 4,
 "nbformat_minor": 2
}
